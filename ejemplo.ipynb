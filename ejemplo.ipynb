{
 "cells": [
  {
   "cell_type": "markdown",
   "metadata": {},
   "source": [
    "# Mi primer Notebook!"
   ]
  },
  {
   "cell_type": "markdown",
   "metadata": {},
   "source": [
    "2do C. Ramos Teresa "
   ]
  },
  {
   "cell_type": "code",
   "execution_count": 1,
   "metadata": {},
   "outputs": [
    {
     "name": "stdout",
     "output_type": "stream",
     "text": [
      "Hola mundo\n"
     ]
    }
   ],
   "source": [
    "print(\"Hola mundo\")"
   ]
  },
  {
   "cell_type": "markdown",
   "metadata": {},
   "source": [
    "## Mis primeros descriptivos con pandas"
   ]
  },
  {
   "cell_type": "markdown",
   "metadata": {},
   "source": [
    "##  Mis primeros descriptivos con Pandas"
   ]
  },
  {
   "cell_type": "markdown",
   "metadata": {},
   "source": [
    "Pandas es una herramienta esencial para manipular y analizar datos en Python. Al importar y asignar el alias \"pd\", simplificamos la escritura de código y hacemos nuestras operaciones con datos más eficientes"
   ]
  },
  {
   "cell_type": "code",
   "execution_count": 20,
   "metadata": {},
   "outputs": [],
   "source": [
    "# Importa la biblioteca Pandas y la asigna al alias 'pd' para facilitar su uso.\n",
    "# Pandas es una potente herramienta para manipulación y análisis de datos en Python.\n",
    "# Proporciona estructuras de datos como DataFrames y Series, así como funciones\n",
    "# para leer/escribir datos, realizar cálculos, y mucho más\n",
    "import pandas as pd"
   ]
  },
  {
   "cell_type": "markdown",
   "metadata": {},
   "source": [
    "Toma un diccionario con datos de edad y peso y lo transforma en un DataFrame de Pandas, una estructura tabular ideal para realizar análisis de datos"
   ]
  },
  {
   "cell_type": "code",
   "execution_count": 19,
   "metadata": {},
   "outputs": [],
   "source": [
    "# Creamos un diccionario llamado 'datos' para almacenar los datos de edad y peso.\n",
    "# Un diccionario es una estructura de datos que almacena pares clave-valor. \n",
    "# En este caso, las claves son 'edad' y 'peso', y los valores son listas con los datos correspondientes.\n",
    "datos = {\n",
    "    'edad': [8, 9, 10, 11, 12],\n",
    "    'peso': [30, 32, 35, 37, 40]\n",
    "}\n",
    "\n",
    "# Convertimos el diccionario 'datos' en un DataFrame de Pandas.\n",
    "# Un DataFrame es una estructura de datos tabular similar a una hoja de cálculo.\n",
    "# pd.DataFrame() toma el diccionario como entrada y crea un DataFrame con las claves como columnas y los valores como filas.\n",
    "df = pd.DataFrame(datos)"
   ]
  },
  {
   "cell_type": "markdown",
   "metadata": {},
   "source": [
    "Este código te dice, en promedio, qué edad y peso tienen las personas en el conjunto de datos y qué tan dispersos están esos valores alrededor de la media"
   ]
  },
  {
   "cell_type": "code",
   "execution_count": 21,
   "metadata": {},
   "outputs": [
    {
     "name": "stdout",
     "output_type": "stream",
     "text": [
      "Media de Edad: 10.0\n",
      "Desviación Típica de Edad: 1.5811388300841898\n",
      "Media de Peso: 34.8\n",
      "Desviación Típica de Peso: 3.9623225512317903\n"
     ]
    }
   ],
   "source": [
    "# Calculamos la media y la desviación estándar de las variables 'edad' y 'peso' en el DataFrame 'df'.\n",
    "# La media representa el valor promedio de una variable, mientras que la desviación estándar\n",
    "# mide la dispersión de los datos alrededor de la media.\n",
    "\n",
    "# Calculamos la media de las edades y la asignamos a la variable 'media_edad'.\n",
    "media_edad = df['edad'].mean()\n",
    "\n",
    "# Calculamos la desviación estándar de las edades y la asignamos a la variable 'desviacion_tipica_edad'.\n",
    "desviacion_tipica_edad = df['edad'].std()\n",
    "\n",
    "# Calculamos la media de los pesos y la asignamos a la variable 'media_peso'\n",
    "media_peso = df['peso'].mean()\n",
    "\n",
    "# Calculamos la desviación estándar de los pesos y la asignamos a la variable 'desviacion_tipica_peso'.\n",
    "desviacion_tipica_peso = df['peso'].std()\n",
    "\n",
    "# Mostramos en pantalla los resultados obtenidos.\n",
    "print(\"Media de Edad:\", media_edad)\n",
    "print(\"Desviación Típica de Edad:\", desviacion_tipica_edad)\n",
    "print(\"Media de Peso:\", media_peso)\n",
    "print(\"Desviación Típica de Peso:\", desviacion_tipica_peso)"
   ]
  }
 ],
 "metadata": {
  "kernelspec": {
   "display_name": "Python 3",
   "language": "python",
   "name": "python3"
  },
  "language_info": {
   "codemirror_mode": {
    "name": "ipython",
    "version": 3
   },
   "file_extension": ".py",
   "mimetype": "text/x-python",
   "name": "python",
   "nbconvert_exporter": "python",
   "pygments_lexer": "ipython3",
   "version": "3.11.9"
  }
 },
 "nbformat": 4,
 "nbformat_minor": 2
}
